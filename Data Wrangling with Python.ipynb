{
 "cells": [
  {
   "cell_type": "code",
   "execution_count": 1,
   "id": "d44fbf4b",
   "metadata": {},
   "outputs": [],
   "source": [
    "###########    DATA WRANGLING PYTHON     ########"
   ]
  },
  {
   "cell_type": "code",
   "execution_count": 2,
   "id": "702bc7fe",
   "metadata": {},
   "outputs": [
    {
     "name": "stdout",
     "output_type": "stream",
     "text": [
      "     CustomerID   Genre  Age  Annual Income (k$)  Spending Score (1-100)\n",
      "0             1    Male   19                  15                      39\n",
      "1             2    Male   21                  15                      81\n",
      "2             3  Female   20                  16                       6\n",
      "3             4  Female   23                  16                      77\n",
      "4             5  Female   31                  17                      40\n",
      "..          ...     ...  ...                 ...                     ...\n",
      "195         196  Female   35                 120                      79\n",
      "196         197  Female   45                 126                      28\n",
      "197         198    Male   32                 126                      74\n",
      "198         199    Male   32                 137                      18\n",
      "199         200    Male   30                 137                      83\n",
      "\n",
      "[200 rows x 5 columns]\n"
     ]
    }
   ],
   "source": [
    "#Membaca file menggunakan pandas\n",
    "\n",
    "import pandas as pd\n",
    "csv_data = pd.read_csv(\"https://storage.googleapis.com/dqlab-dataset/shopping_data.csv\")\n",
    "\n",
    "print(csv_data)"
   ]
  },
  {
   "cell_type": "code",
   "execution_count": 4,
   "id": "18b42db2",
   "metadata": {},
   "outputs": [
    {
     "name": "stdout",
     "output_type": "stream",
     "text": [
      "   CustomerID   Genre  Age  Annual Income (k$)  Spending Score (1-100)\n",
      "0           1    Male   19                  15                      39\n",
      "1           2    Male   21                  15                      81\n",
      "2           3  Female   20                  16                       6\n",
      "3           4  Female   23                  16                      77\n",
      "4           5  Female   31                  17                      40\n"
     ]
    }
   ],
   "source": [
    "#Membaca file dan mengambil nilai teratas (head)\n",
    "import pandas as pd\n",
    "csv_data = pd.read_csv(\"https://storage.googleapis.com/dqlab-dataset/shopping_data.csv\")\n",
    "\n",
    "print(csv_data.head())"
   ]
  },
  {
   "cell_type": "code",
   "execution_count": 5,
   "id": "fade0833",
   "metadata": {},
   "outputs": [
    {
     "name": "stdout",
     "output_type": "stream",
     "text": [
      "0      19\n",
      "1      21\n",
      "2      20\n",
      "3      23\n",
      "4      31\n",
      "       ..\n",
      "195    35\n",
      "196    45\n",
      "197    32\n",
      "198    32\n",
      "199    30\n",
      "Name: Age, Length: 200, dtype: int64\n"
     ]
    }
   ],
   "source": [
    "#Melakukan akses data kolom\n",
    "\n",
    "import pandas as pd\n",
    "csv_data = pd.read_csv(\"https://storage.googleapis.com/dqlab-dataset/shopping_data.csv\")\n",
    "\n",
    "print(csv_data['Age'])\n"
   ]
  },
  {
   "cell_type": "code",
   "execution_count": 7,
   "id": "381945f6",
   "metadata": {},
   "outputs": [
    {
     "name": "stdout",
     "output_type": "stream",
     "text": [
      "CustomerID                     6\n",
      "Genre                     Female\n",
      "Age                           22\n",
      "Annual Income (k$)            17\n",
      "Spending Score (1-100)        76\n",
      "Name: 5, dtype: object\n"
     ]
    }
   ],
   "source": [
    "#Melakukan akses data melalui baris\n",
    "\n",
    "import pandas as pd\n",
    "csv_data = pd.read_csv(\"https://storage.googleapis.com/dqlab-dataset/shopping_data.csv\")\n",
    "\n",
    "print(csv_data.iloc[5])"
   ]
  },
  {
   "cell_type": "raw",
   "id": "3da68cef",
   "metadata": {},
   "source": []
  },
  {
   "cell_type": "code",
   "execution_count": 12,
   "id": "24d78099",
   "metadata": {},
   "outputs": [
    {
     "name": "stdout",
     "output_type": "stream",
     "text": [
      "22\n",
      "Cuplikan Data :\n",
      "   CustomerID   Genre  Age  Annual Income (k$)  Spending Score (1-100)\n",
      "0           1    Male   19                  15                      39\n",
      "1           2    Male   21                  15                      81\n",
      "2           3  Female   20                  16                       6\n",
      "3           4  Female   23                  16                      77\n",
      "4           5  Female   31                  17                      40\n"
     ]
    }
   ],
   "source": [
    "#Menampilkan data dari barias dan kolom tertentu\n",
    "import pandas as pd\n",
    "\n",
    "csv_data = pd.read_csv(\"https://storage.googleapis.com/dqlab-dataset/shopping_data.csv\")\n",
    "\n",
    "print(csv_data['Age'].iloc[5])\n",
    "\n",
    "print(\"Cuplikan Data :\")\n",
    "\n",
    "print(csv_data.head())"
   ]
  },
  {
   "cell_type": "code",
   "execution_count": 16,
   "id": "4eacc42b",
   "metadata": {},
   "outputs": [
    {
     "name": "stdout",
     "output_type": "stream",
     "text": [
      "Menampilkan data ke-5 sampai kurang dari 10\n",
      "5    22\n",
      "6    35\n",
      "7    23\n",
      "8    64\n",
      "9    30\n",
      "Name: Age, dtype: int64\n"
     ]
    }
   ],
   "source": [
    "#Menampilkan data dalam range tertentu(Data Age urutan ke 5 sampai <10)\n",
    "\n",
    "import pandas as pd\n",
    "\n",
    "csv_data = pd.read_csv(\"https://storage.googleapis.com/dqlab-dataset/shopping_data.csv\")\n",
    "\n",
    "print(\"Menampilkan data ke-5 sampai kurang dari 10\")\n",
    "print(csv_data['Age'].iloc[5:10])"
   ]
  },
  {
   "cell_type": "code",
   "execution_count": 18,
   "id": "f1aebfc2",
   "metadata": {},
   "outputs": [
    {
     "name": "stdout",
     "output_type": "stream",
     "text": [
      "Menampilkan data ke 5 sampai kurang dari 10 dalam satu baris:\n",
      "   CustomerID   Genre  Age  Annual Income (k$)  Spending Score (1-100)\n",
      "5           6  Female   22                  17                      76\n",
      "6           7  Female   35                  18                       6\n",
      "7           8  Female   23                  18                      94\n",
      "8           9    Male   64                  19                       3\n",
      "9          10  Female   30                  19                      72\n"
     ]
    }
   ],
   "source": [
    "#Menampilakn data dalam range tertentu (menampilkan data ke 5 sampai <10 dalam satu baris)\n",
    "\n",
    "import pandas as pd\n",
    "\n",
    "csv_data = pd.read_csv(\"https://storage.googleapis.com/dqlab-dataset/shopping_data.csv\")\n",
    "\n",
    "print(\"Menampilkan data ke 5 sampai kurang dari 10 dalam satu baris:\")\n",
    "print(csv_data.iloc[5:10])"
   ]
  },
  {
   "cell_type": "code",
   "execution_count": 19,
   "id": "3ed21a27",
   "metadata": {},
   "outputs": [
    {
     "name": "stdout",
     "output_type": "stream",
     "text": [
      "       CustomerID         Age  Annual Income (k$)  Spending Score (1-100)\n",
      "count  200.000000  200.000000          200.000000              200.000000\n",
      "mean   100.500000   38.850000           60.560000               50.200000\n",
      "std     57.879185   13.969007           26.264721               25.823522\n",
      "min      1.000000   18.000000           15.000000                1.000000\n",
      "25%     50.750000   28.750000           41.500000               34.750000\n",
      "50%    100.500000   36.000000           61.500000               50.000000\n",
      "75%    150.250000   49.000000           78.000000               73.000000\n",
      "max    200.000000   70.000000          137.000000               99.000000\n"
     ]
    }
   ],
   "source": [
    "#Menampilkan informasi statistik dengan Numpy\n",
    "\n",
    "import pandas as pd\n",
    "csv_data = pd.read_csv(\"https://storage.googleapis.com/dqlab-dataset/shopping_data.csv\")\n",
    "print(csv_data.describe(exclude=['O']))"
   ]
  },
  {
   "cell_type": "code",
   "execution_count": 20,
   "id": "b27a2df0",
   "metadata": {},
   "outputs": [
    {
     "name": "stdout",
     "output_type": "stream",
     "text": [
      "False\n"
     ]
    }
   ],
   "source": [
    "#Melakukan pengecekan nilai NULL yang ada(contoh tidak ada NULL)\n",
    "\n",
    "import pandas as pd\n",
    "csv_data = pd.read_csv(\"https://storage.googleapis.com/dqlab-dataset/shopping_data.csv\")\n",
    "print(csv_data.isnull().values.any())"
   ]
  },
  {
   "cell_type": "code",
   "execution_count": 22,
   "id": "df982b67",
   "metadata": {},
   "outputs": [
    {
     "name": "stdout",
     "output_type": "stream",
     "text": [
      "True\n"
     ]
    }
   ],
   "source": [
    "#Melakukan pengecekan nilai NULL yang ada(contoh ada NULL)\n",
    "\n",
    "import pandas as pd\n",
    "csv_data = pd.read_csv(\"https://storage.googleapis.com/dqlab-dataset/shopping_data_missingvalue.csv\")\n",
    "print(csv_data.isnull().values.any())"
   ]
  },
  {
   "cell_type": "code",
   "execution_count": 31,
   "id": "04767bee",
   "metadata": {},
   "outputs": [
    {
     "name": "stdout",
     "output_type": "stream",
     "text": [
      "CustomerID                100.500000\n",
      "Age                        38.939698\n",
      "Annual Income (k$)         61.005051\n",
      "Spending Score (1-100)     50.489899\n",
      "dtype: float64\n",
      "\n",
      "Dataset yang masih terdapat nilai kosong ! :\n",
      "\n",
      "   CustomerID   Genre   Age  Annual Income (k$)  Spending Score (1-100)\n",
      "0           1    Male  19.0                15.0                    39.0\n",
      "1           2    Male   NaN                15.0                    81.0\n",
      "2           3  Female  20.0                 NaN                     6.0\n",
      "3           4  Female  23.0                16.0                    77.0\n",
      "4           5  Female  31.0                17.0                     NaN\n",
      "5           6  Female  22.0                 NaN                    76.0\n",
      "6           7  Female  35.0                18.0                     6.0\n",
      "7           8  Female  23.0                18.0                    94.0\n",
      "8           9    Male  64.0                19.0                     NaN\n",
      "9          10  Female  30.0                19.0                    72.0\n",
      "\n",
      "Dataset yang sudah diproses Handling Missing Values dengan Mean :\n",
      "\n",
      "   CustomerID   Genre        Age  Annual Income (k$)  Spending Score (1-100)\n",
      "0           1    Male  19.000000           15.000000               39.000000\n",
      "1           2    Male  38.939698           15.000000               81.000000\n",
      "2           3  Female  20.000000           61.005051                6.000000\n",
      "3           4  Female  23.000000           16.000000               77.000000\n",
      "4           5  Female  31.000000           17.000000               50.489899\n",
      "5           6  Female  22.000000           61.005051               76.000000\n",
      "6           7  Female  35.000000           18.000000                6.000000\n",
      "7           8  Female  23.000000           18.000000               94.000000\n",
      "8           9    Male  64.000000           19.000000               50.489899\n",
      "9          10  Female  30.000000           19.000000               72.000000\n"
     ]
    }
   ],
   "source": [
    "#Mengisi data yang kosong dengan Mean(Rata-rata)\n",
    "\n",
    "import pandas as pd\n",
    "csv_data = pd.read_csv(\"https://storage.googleapis.com/dqlab-dataset/shopping_data_missingvalue.csv\")\n",
    "print(csv_data.mean())\n",
    "print(\"\\nDataset yang masih terdapat nilai kosong ! :\\n\")\n",
    "print(csv_data.head(10))\n",
    "\n",
    "csv_data=csv_data.fillna(csv_data.mean())\n",
    "print(\"\\nDataset yang sudah diproses Handling Missing Values dengan Mean :\\n\")\n",
    "print(csv_data.head(10))"
   ]
  },
  {
   "cell_type": "code",
   "execution_count": 34,
   "id": "af2988f8",
   "metadata": {},
   "outputs": [
    {
     "name": "stdout",
     "output_type": "stream",
     "text": [
      "CustomerID                100.5\n",
      "Age                        36.0\n",
      "Annual Income (k$)         62.0\n",
      "Spending Score (1-100)     50.0\n",
      "dtype: float64\n",
      "\n",
      "Dataset yang masih terdapat nilai kosong ! :\n",
      "\n",
      "   CustomerID   Genre   Age  Annual Income (k$)  Spending Score (1-100)\n",
      "0           1    Male  19.0                15.0                    39.0\n",
      "1           2    Male   NaN                15.0                    81.0\n",
      "2           3  Female  20.0                 NaN                     6.0\n",
      "3           4  Female  23.0                16.0                    77.0\n",
      "4           5  Female  31.0                17.0                     NaN\n",
      "5           6  Female  22.0                 NaN                    76.0\n",
      "6           7  Female  35.0                18.0                     6.0\n",
      "7           8  Female  23.0                18.0                    94.0\n",
      "8           9    Male  64.0                19.0                     NaN\n",
      "9          10  Female  30.0                19.0                    72.0\n",
      "\n",
      "Dataset yang sudah diproses Handling Missing Value dengan Median :\n",
      "\n",
      "   CustomerID   Genre   Age  Annual Income (k$)  Spending Score (1-100)\n",
      "0           1    Male  19.0                15.0                    39.0\n",
      "1           2    Male  36.0                15.0                    81.0\n",
      "2           3  Female  20.0                62.0                     6.0\n",
      "3           4  Female  23.0                16.0                    77.0\n",
      "4           5  Female  31.0                17.0                    50.0\n",
      "5           6  Female  22.0                62.0                    76.0\n",
      "6           7  Female  35.0                18.0                     6.0\n",
      "7           8  Female  23.0                18.0                    94.0\n",
      "8           9    Male  64.0                19.0                    50.0\n",
      "9          10  Female  30.0                19.0                    72.0\n"
     ]
    }
   ],
   "source": [
    "#Mengisi data yang kosong dengan median(Nilai tengah)\n",
    "\n",
    "import pandas as pd\n",
    "\n",
    "csv_data = pd.read_csv(\"https://storage.googleapis.com/dqlab-dataset/shopping_data_missingvalue.csv\")\n",
    "print(csv_data.median())\n",
    "print(\"\\nDataset yang masih terdapat nilai kosong ! :\\n\")\n",
    "print(csv_data.head(10))\n",
    "\n",
    "csv_data=csv_data.fillna(csv_data.median())\n",
    "print(\"\\nDataset yang sudah diproses Handling Missing Value dengan Median :\\n\")\n",
    "print(csv_data.head(10))"
   ]
  },
  {
   "cell_type": "code",
   "execution_count": 35,
   "id": "e8966572",
   "metadata": {},
   "outputs": [
    {
     "name": "stdout",
     "output_type": "stream",
     "text": [
      "dataset sebelum dinormalisasi :\n",
      "  Customer ID  Gender Age Income Spending Score\n",
      "0           1    Male  19     15             39\n",
      "1           2    Male  21     15             81\n",
      "2           3  Female  20     16              6\n",
      "3           4  Female  23     16             77\n",
      "4           5  Female  31     17             40\n",
      "5           6  Female  22     17             76\n",
      "6           7  Female  35     18              6\n",
      "7           8  Female  23     18             94\n",
      "8           9    Male  64     19              3\n",
      "9          10  Female  30     19             72\n",
      "dataset setelah dinormalisasi :\n",
      "        Age    Income  Spending Score Customer ID  Gender\n",
      "0  0.019231  0.000000        0.387755           1    Male\n",
      "1  0.057692  0.000000        0.816327           2    Male\n",
      "2  0.038462  0.008197        0.051020           3  Female\n",
      "3  0.096154  0.008197        0.775510           4  Female\n",
      "4  0.250000  0.016393        0.397959           5  Female\n",
      "5  0.076923  0.016393        0.765306           6  Female\n",
      "6  0.326923  0.024590        0.051020           7  Female\n",
      "7  0.096154  0.024590        0.948980           8  Female\n",
      "8  0.884615  0.032787        0.020408           9    Male\n",
      "9  0.230769  0.032787        0.724490          10  Female\n"
     ]
    }
   ],
   "source": [
    "#Praktek Normalisasi menggunakan Scikit learn pada Python\n",
    "\n",
    "import pandas as pd\n",
    "import numpy as np\n",
    "from sklearn import preprocessing\n",
    "\n",
    "csv_data = pd.read_csv(\"https://storage.googleapis.com/dqlab-dataset/shopping_data.csv\")\n",
    "array = csv_data.values\n",
    "\n",
    "X = array[:,2:5] #memisahkan fitur dari dataset.\n",
    "Y = array[:,0:1]  #memisahkan class dari dataset\n",
    "\n",
    "dataset=pd.DataFrame({'Customer ID':array[:,0],'Gender':array[:,1],'Age':array[:,2],'Income':array[:,3],'Spending Score':array[:,4]})\n",
    "print(\"dataset sebelum dinormalisasi :\")\n",
    "print(dataset.head(10))\n",
    "\n",
    "min_max_scaler = preprocessing.MinMaxScaler(feature_range=(0,1)) #inisialisasi normalisasi MinMax\n",
    "data = min_max_scaler.fit_transform(X) #transformasi MinMax untuk fitur\n",
    "dataset = pd.DataFrame({'Age':data[:,0],'Income':data[:,1],'Spending Score':data[:,2],'Customer ID':array[:,0],'Gender':array[:,1]})\n",
    "\n",
    "print(\"dataset setelah dinormalisasi :\")\n",
    "print(dataset.head(10))"
   ]
  },
  {
   "cell_type": "code",
   "execution_count": null,
   "id": "399f7855",
   "metadata": {},
   "outputs": [],
   "source": []
  }
 ],
 "metadata": {
  "kernelspec": {
   "display_name": "Python 3",
   "language": "python",
   "name": "python3"
  },
  "language_info": {
   "codemirror_mode": {
    "name": "ipython",
    "version": 3
   },
   "file_extension": ".py",
   "mimetype": "text/x-python",
   "name": "python",
   "nbconvert_exporter": "python",
   "pygments_lexer": "ipython3",
   "version": "3.8.8"
  }
 },
 "nbformat": 4,
 "nbformat_minor": 5
}
